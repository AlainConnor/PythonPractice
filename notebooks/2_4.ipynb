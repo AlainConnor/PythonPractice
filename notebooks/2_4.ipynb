{
 "cells": [
  {
   "cell_type": "markdown",
   "metadata": {},
   "source": [
    "# 学习内容：如何根据字典中值的大小, 对字典中的项排序"
   ]
  },
  {
   "cell_type": "markdown",
   "metadata": {},
   "source": [
    "## 一、所用到的基本函数\n",
    "一般来说，对于排序任务最先考虑到的函数就是sorted()函数  <br/>\n",
    "函数声明：sorted(iterable, *, key=None, reverse=False)  <br /> \n",
    "函数说明：Return a new sorted list from the items in iterable. <br />\n",
    "官方文档：https://docs.python.org/3/library/functions.html?highlight=sorted#sorted"
   ]
  },
  {
   "cell_type": "code",
   "execution_count": 1,
   "metadata": {},
   "outputs": [
    {
     "data": {
      "text/plain": [
       "[1, 3, 3, 4, 5, 8, 9]"
      ]
     },
     "execution_count": 1,
     "output_type": "execute_result",
     "metadata": {}
    }
   ],
   "source": [
    "sorted([9,5,3,4,8,3,1])"
   ]
  },
  {
   "cell_type": "markdown",
   "metadata": {},
   "source": [
    "# 二、解决方案\n",
    "### （一）利用zip函数将键与值对换，然后再进行排序"
   ]
  },
  {
   "cell_type": "raw",
   "metadata": {}
  },
  {
   "cell_type": "code",
   "execution_count": 3,
   "metadata": {},
   "outputs": [
    {
     "name": "stdout",
     "output_type": "stream",
     "text": [
      "{'a': 94, 'z': 93, 'c': 99, 'x': 76, 'b': 82, 'y': 67}\n",
      "['a', 'b', 'c', 'x', 'y', 'z']\n"
     ]
    }
   ],
   "source": [
    "from random import randint\n",
    "d = {x:randint(60,100) for x in 'xyzabc'}\n",
    "print(d)\n",
    "print(sorted(d))"
   ]
  },
  {
   "cell_type": "code",
   "execution_count": 4,
   "metadata": {},
   "outputs": [
    {
     "name": "stdout",
     "output_type": "stream",
     "text": [
      "dict_keys(['a', 'z', 'c', 'x', 'b', 'y'])\n",
      "dict_values([94, 93, 99, 76, 82, 67])\n"
     ]
    }
   ],
   "source": [
    "# 打印字典的键和值\n",
    "print(d.keys())\n",
    "print(d.values())"
   ]
  },
  {
   "cell_type": "code",
   "execution_count": 11,
   "metadata": {},
   "outputs": [
    {
     "data": {
      "text/plain": [
       "[(94, 'a'), (93, 'z'), (99, 'c'), (76, 'x'), (82, 'b'), (67, 'y')]"
      ]
     },
     "execution_count": 11,
     "output_type": "execute_result",
     "metadata": {}
    }
   ],
   "source": [
    "# 利用zip函数来重新将键值对调后合成\n",
    "list(zip(d.values(), d.keys()))"
   ]
  },
  {
   "cell_type": "code",
   "execution_count": 12,
   "metadata": {},
   "outputs": [
    {
     "data": {
      "text/plain": [
       "[(67, 'y'), (76, 'x'), (82, 'b'), (93, 'z'), (94, 'a'), (99, 'c')]"
      ]
     },
     "execution_count": 12,
     "output_type": "execute_result",
     "metadata": {}
    }
   ],
   "source": [
    "# 对新的列表进行排序\n",
    "sorted(zip(d.values(), d.keys()))"
   ]
  },
  {
   "cell_type": "markdown",
   "metadata": {},
   "source": [
    "### （二）、利用sorted的第二个参数"
   ]
  },
  {
   "cell_type": "raw",
   "metadata": {}
  },
  {
   "cell_type": "code",
   "execution_count": 13,
   "metadata": {},
   "outputs": [
    {
     "data": {
      "text/plain": [
       "[('y', 67), ('x', 76), ('b', 82), ('z', 93), ('a', 94), ('c', 99)]"
      ]
     },
     "execution_count": 13,
     "output_type": "execute_result",
     "metadata": {}
    }
   ],
   "source": [
    "sorted(d.items(),key = lambda x:x[1])"
   ]
  }
 ],
 "metadata": {
  "anaconda-cloud": {},
  "kernelspec": {
   "display_name": "Python [conda root]",
   "language": "python",
   "name": "conda-root-py"
  },
  "language_info": {
   "codemirror_mode": {
    "name": "ipython",
    "version": 3.0
   },
   "file_extension": ".py",
   "mimetype": "text/x-python",
   "name": "python",
   "nbconvert_exporter": "python",
   "pygments_lexer": "ipython3",
   "version": "3.5.2"
  }
 },
 "nbformat": 4,
 "nbformat_minor": 1
}