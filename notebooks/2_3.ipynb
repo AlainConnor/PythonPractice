{
 "cells": [
  {
   "cell_type": "markdown",
   "metadata": {},
   "source": [
    "# 通常用来统计一个列表中重复元素的个数依然是定义一个函数"
   ]
  },
  {
   "cell_type": "code",
   "execution_count": 24,
   "metadata": {},
   "outputs": [
    {
     "name": "stdout",
     "output_type": "stream",
     "text": [
      "{0: 1, 1: 3, 2: 1, 3: 2, 4: 3, 5: 1, 7: 2, 8: 1, 9: 1, 10: 2, 11: 4, 12: 1, 13: 1, 14: 1, 15: 3, 16: 1, 19: 2}\n"
     ]
    }
   ],
   "source": [
    "from random import randint\n",
    "\n",
    "data = [randint(0,20) for _ in range(30)]\n",
    "\n",
    "c = dict.fromkeys(data,0)\n",
    "for x in data:\n",
    "    c[x] +=1\n",
    "print(c)"
   ]
  },
  {
   "cell_type": "markdown",
   "metadata": {},
   "source": [
    "### 效率低，且这么一小段代码，还没有完成找出出现频率最高的几个关键字"
   ]
  },
  {
   "cell_type": "markdown",
   "metadata": {},
   "source": [
    "# Python提供一个collections模块，里面内置了一些比较好用的方法，比如："
   ]
  },
  {
   "cell_type": "code",
   "execution_count": 25,
   "metadata": {},
   "outputs": [
    {
     "data": {
      "text/plain": [
       "[(11, 4), (1, 3), (4, 3)]"
      ]
     },
     "execution_count": 25,
     "metadata": {},
     "output_type": "execute_result"
    }
   ],
   "source": [
    "from collections import Counter\n",
    "c2 = Counter(data)\n",
    "c2.most_common(3)"
   ]
  },
  {
   "cell_type": "markdown",
   "metadata": {},
   "source": [
    "### 通过很简单的几行，就可以统计出出现频率是前三的关键字了"
   ]
  },
  {
   "cell_type": "markdown",
   "metadata": {},
   "source": [
    "# 下面是统计linux编码规范中，出现频率最高的10个单词"
   ]
  },
  {
   "cell_type": "code",
   "execution_count": 29,
   "metadata": {},
   "outputs": [
    {
     "data": {
      "text/plain": [
       "[('the', 212),\n",
       " ('a', 148),\n",
       " ('to', 128),\n",
       " ('and', 120),\n",
       " ('is', 113),\n",
       " ('of', 109),\n",
       " ('you', 72),\n",
       " ('in', 69),\n",
       " ('code', 66),\n",
       " ('that', 65)]"
      ]
     },
     "execution_count": 29,
     "metadata": {},
     "output_type": "execute_result"
    }
   ],
   "source": [
    "txt = open('CodingStyle.txt').read()\n",
    "\n",
    "import re\n",
    "from collections import Counter\n",
    "c3 = Counter(re.split('\\W+',txt))\n",
    "\n",
    "c3.most_common(10)"
   ]
  }
 ],
 "metadata": {
  "anaconda-cloud": {},
  "kernelspec": {
   "display_name": "Python [default]",
   "language": "python",
   "name": "python3"
  },
  "language_info": {
   "codemirror_mode": {
    "name": "ipython",
    "version": 3
   },
   "file_extension": ".py",
   "mimetype": "text/x-python",
   "name": "python",
   "nbconvert_exporter": "python",
   "pygments_lexer": "ipython3",
   "version": "3.5.2"
  },
  "nbpresent": {
   "slides": {
    "0b7ae80f-459e-46bf-9ca9-180f5ef1108a": {
     "id": "0b7ae80f-459e-46bf-9ca9-180f5ef1108a",
     "prev": "7a9f1102-a180-43ac-a712-41cc3e40d235",
     "regions": {
      "dd675d02-4dcc-4b53-ab33-47da7a43c20f": {
       "attrs": {
        "height": 0.8,
        "width": 0.8,
        "x": 0.1,
        "y": 0.1
       },
       "content": {
        "cell": "aca12d83-a424-41fd-9491-b30a54249bf5",
        "part": "whole"
       },
       "id": "dd675d02-4dcc-4b53-ab33-47da7a43c20f"
      }
     }
    },
    "0b953f2f-f81b-4777-8214-863a0360d744": {
     "id": "0b953f2f-f81b-4777-8214-863a0360d744",
     "regions": {
      "b5ce292e-57ef-496c-98bc-e8be92800a2e": {
       "attrs": {
        "height": 0.8,
        "width": 0.8,
        "x": 0.1,
        "y": 0.1
       },
       "content": {
        "cell": "8e948367-b1c2-4699-abad-56876a533c69",
        "part": "whole"
       },
       "id": "b5ce292e-57ef-496c-98bc-e8be92800a2e"
      }
     }
    },
    "3c4f0d86-50e7-4c7a-a997-f8e1d6b6344b": {
     "id": "3c4f0d86-50e7-4c7a-a997-f8e1d6b6344b",
     "prev": "71745b89-af02-4d76-81b2-799e356b1795",
     "regions": {
      "19d25531-6143-4a3d-989e-d6a2b16af54e": {
       "attrs": {
        "height": 0.8,
        "width": 0.8,
        "x": 0.1,
        "y": 0.1
       },
       "content": {
        "cell": "3bc2f140-7317-4c31-a100-38217ba93e4b",
        "part": "whole"
       },
       "id": "19d25531-6143-4a3d-989e-d6a2b16af54e"
      }
     }
    },
    "71745b89-af02-4d76-81b2-799e356b1795": {
     "id": "71745b89-af02-4d76-81b2-799e356b1795",
     "prev": "0b7ae80f-459e-46bf-9ca9-180f5ef1108a",
     "regions": {
      "0f906208-e60c-46e5-ab2e-e1194bf439e2": {
       "attrs": {
        "height": 0.8,
        "width": 0.8,
        "x": 0.1,
        "y": 0.1
       },
       "content": {
        "cell": "86235a98-885d-4f27-b683-2e7ed3d61a35",
        "part": "whole"
       },
       "id": "0f906208-e60c-46e5-ab2e-e1194bf439e2"
      }
     }
    },
    "7a9f1102-a180-43ac-a712-41cc3e40d235": {
     "id": "7a9f1102-a180-43ac-a712-41cc3e40d235",
     "prev": "97e8c500-5846-4073-9dd5-98c82adf67e3",
     "regions": {
      "b9194521-b13e-4851-8655-46ffbf6d00fc": {
       "attrs": {
        "height": 0.8,
        "width": 0.8,
        "x": 0.1,
        "y": 0.1
       },
       "content": {
        "cell": "a82ddf70-0d5c-4112-a700-de98ff0d537b",
        "part": "whole"
       },
       "id": "b9194521-b13e-4851-8655-46ffbf6d00fc"
      }
     }
    },
    "809afa36-44ae-472b-9b6c-84536899cb68": {
     "id": "809afa36-44ae-472b-9b6c-84536899cb68",
     "prev": "3c4f0d86-50e7-4c7a-a997-f8e1d6b6344b",
     "regions": {
      "75a92848-e96d-4d37-856f-78c7e198ade0": {
       "attrs": {
        "height": 0.8,
        "width": 0.8,
        "x": 0.1,
        "y": 0.1
       },
       "content": {
        "cell": "7f56141b-19aa-42cf-9337-1310c339c296",
        "part": "whole"
       },
       "id": "75a92848-e96d-4d37-856f-78c7e198ade0"
      }
     }
    },
    "8a8bef31-8399-4aa8-945d-5db507ad8f72": {
     "id": "8a8bef31-8399-4aa8-945d-5db507ad8f72",
     "prev": "809afa36-44ae-472b-9b6c-84536899cb68",
     "regions": {
      "02706578-08af-4fad-bb30-b15e2d035d2a": {
       "attrs": {
        "height": 0.8,
        "width": 0.8,
        "x": 0.1,
        "y": 0.1
       },
       "content": {
        "cell": "5157c4ca-ce5f-4fdd-a621-e9060c20bc5d",
        "part": "whole"
       },
       "id": "02706578-08af-4fad-bb30-b15e2d035d2a"
      }
     }
    },
    "97e8c500-5846-4073-9dd5-98c82adf67e3": {
     "id": "97e8c500-5846-4073-9dd5-98c82adf67e3",
     "prev": "c4b7f81c-7391-432c-8e3d-7358d17c0f3d",
     "regions": {
      "b2ec51f2-8e02-4445-b12e-dd28cbc7704a": {
       "attrs": {
        "height": 0.8,
        "width": 0.8,
        "x": 0.1,
        "y": 0.1
       },
       "content": {
        "cell": "62d4ca54-35bf-4fbf-8ee1-410f99c2c983",
        "part": "whole"
       },
       "id": "b2ec51f2-8e02-4445-b12e-dd28cbc7704a"
      }
     }
    },
    "c4b7f81c-7391-432c-8e3d-7358d17c0f3d": {
     "id": "c4b7f81c-7391-432c-8e3d-7358d17c0f3d",
     "prev": "0b953f2f-f81b-4777-8214-863a0360d744",
     "regions": {
      "9a57d737-d557-4f67-907a-6f58498aed4f": {
       "attrs": {
        "height": 0.8,
        "width": 0.8,
        "x": 0.1,
        "y": 0.1
       },
       "content": {
        "cell": "7f8cf512-4505-4f77-800e-57a8a7873143",
        "part": "whole"
       },
       "id": "9a57d737-d557-4f67-907a-6f58498aed4f"
      }
     }
    }
   },
   "themes": {}
  }
 },
 "nbformat": 4,
 "nbformat_minor": 1
}
